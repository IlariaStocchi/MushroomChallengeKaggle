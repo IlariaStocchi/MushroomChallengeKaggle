{
 "cells": [
  {
   "cell_type": "code",
   "execution_count": 17,
   "metadata": {},
   "outputs": [],
   "source": [
    "import pandas as pd\n",
    "from sklearn.metrics import accuracy_score\n",
    "from sklearn.ensemble import RandomForestClassifier\n",
    "from sklearn.model_selection import train_test_split\n",
    "from sklearn.preprocessing import LabelEncoder\n",
    "from sklearn.preprocessing import OneHotEncoder"
   ]
  },
  {
   "cell_type": "code",
   "execution_count": 18,
   "metadata": {},
   "outputs": [],
   "source": [
    "#Load All Data\n",
    "pathFile = \"./Data/mushroom_data_all.csv\"\n",
    "full_data = pd.read_csv(pathFile)"
   ]
  },
  {
   "cell_type": "code",
   "execution_count": 19,
   "metadata": {},
   "outputs": [],
   "source": [
    "#Make a copy of data not to change the original set\n",
    "dataCopy = full_data.copy()\n",
    "\n",
    "#Distinguish between target and features\n",
    "y = dataCopy.class_edible\n",
    "X = dataCopy.drop(['class_edible'], axis=1, inplace=False)\n",
    "X.drop(['veil-type'], axis = 1, inplace = True)"
   ]
  },
  {
   "cell_type": "code",
   "execution_count": 20,
   "metadata": {},
   "outputs": [],
   "source": [
    "#Split in train and validation sets\n",
    "X_train, X_valid, y_train, y_valid = train_test_split(X, y, train_size = 0.7, test_size= 0.3, random_state=42)"
   ]
  },
  {
   "cell_type": "code",
   "execution_count": 21,
   "metadata": {},
   "outputs": [],
   "source": [
    "#Preprocessing with Imputation of the categorical columns \n",
    "#Distinguish between data labelled in the training from \n",
    "#other possible values in validation but not in the training set\n",
    "\n",
    "categorical_columns = [col for col in X_train.columns if X_train[col].dtype == 'object'] \n",
    "good_columns = [col for col in categorical_columns if set(X_train[col]) == set(X_valid[col])]\n",
    "problematic_columns = list(set(X_valid.columns)-set(good_columns))"
   ]
  },
  {
   "cell_type": "code",
   "execution_count": 22,
   "metadata": {},
   "outputs": [
    {
     "data": {
      "text/plain": [
       "[('bruises', 2),\n",
       " ('gill-attachment', 2),\n",
       " ('gill-spacing', 2),\n",
       " ('gill-size', 2),\n",
       " ('stalk-shape', 2),\n",
       " ('ring-number', 3),\n",
       " ('cap-surface', 4),\n",
       " ('stalk-surface-above-ring', 4),\n",
       " ('stalk-surface-below-ring', 4),\n",
       " ('veil-color', 4),\n",
       " ('stalk-root', 5),\n",
       " ('ring-type', 5),\n",
       " ('cap-shape', 6),\n",
       " ('population', 6),\n",
       " ('habitat', 7),\n",
       " ('odor', 9),\n",
       " ('stalk-color-above-ring', 9),\n",
       " ('stalk-color-below-ring', 9),\n",
       " ('spore-print-color', 9),\n",
       " ('cap-color', 10),\n",
       " ('gill-color', 12)]"
      ]
     },
     "execution_count": 22,
     "metadata": {},
     "output_type": "execute_result"
    }
   ],
   "source": [
    "#Search for numbers of unique values for each cat columns\n",
    "val_unique = list(map(lambda col: X_train[col].nunique(), categorical_columns))\n",
    "d = dict(zip(categorical_columns, val_unique))\n",
    "sorted(d.items(), key=lambda x: x[1])\n",
    "#Veil-type column can potentially be erased from the features"
   ]
  },
  {
   "cell_type": "code",
   "execution_count": 23,
   "metadata": {},
   "outputs": [],
   "source": [
    "low_cardinality_columns = [col for col in good_columns if X_train[col].nunique() <= 9]\n",
    "high_cardinality_columns = list(set(good_columns)-set(low_cardinality_columns))"
   ]
  },
  {
   "cell_type": "code",
   "execution_count": 24,
   "metadata": {},
   "outputs": [],
   "source": [
    "##One Hot Encoding for columns with cardinality <= 9## \n",
    "OHEncoder = OneHotEncoder(handle_unknown = 'ignore', sparse = False)\n",
    "OH_columns_train = pd.DataFrame(OHEncoder.fit_transform(X_train[low_cardinality_columns]))\n",
    "OH_columns_valid = pd.DataFrame(OHEncoder.transform(X_valid[low_cardinality_columns]))\n",
    "\n",
    "#Restoring indexes deleted by OH encoding\n",
    "OH_columns_train.index = X_train.index\n",
    "OH_columns_valid.index = X_valid.index\n",
    "\n",
    "OHEncoded_X_train = pd.concat([X_train, OH_columns_train], axis = 1)\n",
    "OHEncoded_X_valid = pd.concat([X_valid, OH_columns_valid], axis = 1)\n",
    "\n",
    "#Drop columns that will not be used\n",
    "OHEncoded_X_train = OHEncoded_X_train.drop(low_cardinality_columns, axis = 1)\n",
    "OHEncoded_X_valid = OHEncoded_X_valid.drop(low_cardinality_columns, axis = 1)\n",
    "\n"
   ]
  },
  {
   "cell_type": "code",
   "execution_count": 26,
   "metadata": {},
   "outputs": [],
   "source": [
    "##Label Encoding for the other categorical columns (cardinality > 9)##\n",
    "label_encoder = LabelEncoder()\n",
    "\n",
    "labelled_X_train = OHEncoded_X_train\n",
    "labelled_X_valid = OHEncoded_X_valid\n",
    "\n",
    "for col in set(high_cardinality_columns):\n",
    "    labelled_X_train[col] = label_encoder.fit_transform(labelled_X_train[col])\n",
    "    labelled_X_valid[col] = label_encoder.transform(labelled_X_valid[col])"
   ]
  },
  {
   "cell_type": "code",
   "execution_count": 27,
   "metadata": {},
   "outputs": [],
   "source": [
    "#Build the model\n",
    "my_model = RandomForestClassifier(random_state = 1)\n",
    "my_model.fit(labelled_X_train, y_train)\n",
    "predictions = my_model.predict(labelled_X_valid)"
   ]
  },
  {
   "cell_type": "code",
   "execution_count": 28,
   "metadata": {},
   "outputs": [
    {
     "name": "stdout",
     "output_type": "stream",
     "text": [
      "Training accuracy:  [1.0]\n",
      "Validation accuracy:  [1.0]\n"
     ]
    }
   ],
   "source": [
    "#Output of training and validation accuracy\n",
    "training_accuracy = []\n",
    "validation_accuracy = []\n",
    "training_accuracy.append(my_model.score(labelled_X_train, y_train))    \n",
    "validation_accuracy.append(my_model.score(labelled_X_valid, y_valid))\n",
    "print('Training accuracy: ', training_accuracy)\n",
    "print('Validation accuracy: ', validation_accuracy)"
   ]
  },
  {
   "cell_type": "code",
   "execution_count": null,
   "metadata": {},
   "outputs": [],
   "source": []
  }
 ],
 "metadata": {
  "kernelspec": {
   "display_name": "Python 3",
   "language": "python",
   "name": "python3"
  },
  "language_info": {
   "codemirror_mode": {
    "name": "ipython",
    "version": 3
   },
   "file_extension": ".py",
   "mimetype": "text/x-python",
   "name": "python",
   "nbconvert_exporter": "python",
   "pygments_lexer": "ipython3",
   "version": "3.7.6"
  }
 },
 "nbformat": 4,
 "nbformat_minor": 4
}
